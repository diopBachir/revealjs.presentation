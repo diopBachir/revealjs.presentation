{
  "cells": [
    {
      "cell_type": "raw",
      "metadata": {},
      "source": [
        "---\n",
        "titlepage: false\n",
        "format: \n",
        "  PrettyPDF-pdf\n",
        "---"
      ],
      "id": "deda5fde"
    },
    {
      "cell_type": "markdown",
      "metadata": {},
      "source": [
        "# Résultats de l'analyse fréquentielle locale\n",
        "\n",
        "## Test d'hypothèses\n",
        "\n",
        "\n",
        "```{css, echo = FALSE}\n",
        ".justify {\n",
        "  text-align: justify !important\n",
        "}\n",
        "```\n",
        "\n",
        "\n",
        "::justify\n",
        "\n",
        ":::: {.columns} \n",
        "::: {.column width=\"50%\"}\n",
        "::: {.callout-note icon=false}\n",
        "## [1. Tests d'hypotèses]{.tabset-subtitle1}<br>\n",
        "Le tableau ci-contre donne le nombre de stations dans lesquelles l'hypothèse nulle **$H_0$** a été rejetées. Les stations avec une tendance ou une auocorrélation à un seuil de 01% ont été exclues dans la suite de l'anayse fréquentielle locale.\n",
        ":::\n",
        ":::\n",
        "::: {.column width=\"50%\"}\n",
        "mtcars\n",
        ":::\n",
        "::::\n",
        "\n",
        ":::"
      ],
      "id": "e0301711"
    }
  ],
  "metadata": {
    "kernelspec": {
      "display_name": "Python 3",
      "language": "python",
      "name": "python3"
    }
  },
  "nbformat": 4,
  "nbformat_minor": 5
}